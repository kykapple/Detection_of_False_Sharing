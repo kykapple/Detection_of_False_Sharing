{
 "cells": [
  {
   "cell_type": "code",
   "execution_count": 1,
   "metadata": {},
   "outputs": [],
   "source": [
    "import os           \n",
    "import pandas as pd\n",
    "import numpy as np\n",
    "from sklearn.model_selection import train_test_split"
   ]
  },
  {
   "cell_type": "code",
   "execution_count": 2,
   "metadata": {},
   "outputs": [
    {
     "data": {
      "text/plain": [
       "'C:\\\\Users\\\\jinh2\\\\DFS\\\\캡스톤'"
      ]
     },
     "execution_count": 2,
     "metadata": {},
     "output_type": "execute_result"
    }
   ],
   "source": [
    "# 현재경로 확인\n",
    "os.getcwd()"
   ]
  },
  {
   "cell_type": "code",
   "execution_count": 3,
   "metadata": {},
   "outputs": [],
   "source": [
    "# 전처리 함수\n",
    "def div_ins(data) :   # data <- .csv 파일\n",
    "    data_arr = data.to_numpy()\n",
    "    data_arr2 = data_arr[:,0:30]#100]\n",
    "    data_arri = data_arr[:, 30]#100]\n",
    "    data_div = data_arr2/data_arri[:,None]\n",
    "    data_arrc = data_arr[:, 31]#100]\n",
    "    data_arrc = data_arrc.reshape(-1,1)\n",
    "    data = np.concatenate((data_div, data_arrc), axis=1)\n",
    "    data = pd.DataFrame(data, columns = ['x1','x2','x3','x4', 'x5', \\\n",
    "                                         'x6','x7','x8','x9', 'x10', \\\n",
    "                                         'x11','x12','x13','x14', 'x15', \\\n",
    "                                         'x16','x17','x18','x19', 'x20', \\\n",
    "                                         'x21','x22','x23','x24', 'x25', \\\n",
    "                                         'x26','x27','x28','x29', 'x30', \\\n",
    "                                        # 'x31','x32','x33','x34', 'x35', \\\n",
    "                                        # 'x36','x37','x38','x39', 'x40', \\\n",
    "                                        # 'x41','x42','x43','x44', 'x45', \\\n",
    "                                        # 'x46','x47','x48','x49', 'x50', \\\n",
    "                                        # 'x51','x52','x53','x54', 'x55', \\\n",
    "                                        # 'x56','x57','x58','x59', 'x60', \\\n",
    "                                        # 'x61','x62','x63','x64', 'x65', \\\n",
    "                                        # 'x66','x67','x68','x69', 'x70', \\\n",
    "                                        # 'x71','x72','x73','x74', 'x75', \\\n",
    "                                        # 'x76','x77','x78','x79', 'x80', \\\n",
    "                                        # 'x81','x82','x83','x84', 'x85', \\\n",
    "                                        # 'x86','x87','x88','x89', 'x90', \\\n",
    "                                        # 'x91','x92','x93','x94', 'x95', \\\n",
    "                                        # 'x96','x97','x98','x99', 'x100', \\\n",
    "                                         'class'])\n",
    "    return data"
   ]
  },
  {
   "cell_type": "code",
   "execution_count": 4,
   "metadata": {},
   "outputs": [],
   "source": [
    "# 데이터 불러오기\n",
    "data = pd.read_csv(\"./data/data_set_4.csv\") \n",
    "data2 = pd.read_csv(\"./data/data_set_2.csv\") \n",
    "data3 = pd.read_csv(\"./data/data_set_8.csv\") \n",
    "data4 = pd.read_csv(\"./data/data_set_16.csv\") \n",
    "#print(data)\n",
    "# 전처리\n",
    "data = div_ins(data)\n",
    "data2 = div_ins(data2)\n",
    "data3 = div_ins(data3)\n",
    "data4 = div_ins(data4)\n",
    "\n",
    "data = pd.concat([data,data2])\n",
    "data = pd.concat([data,data3])\n",
    "data = pd.concat([data,data4])"
   ]
  },
  {
   "cell_type": "code",
   "execution_count": 5,
   "metadata": {},
   "outputs": [
    {
     "name": "stdout",
     "output_type": "stream",
     "text": [
      "nCar: 72 nVar: 31\n"
     ]
    }
   ],
   "source": [
    "nCar = data.shape[0] # 데이터 개수\n",
    "nVar = data.shape[1] # 변수 개수\n",
    "print('nCar: %d' % nCar, 'nVar: %d' % nVar )"
   ]
  },
  {
   "cell_type": "code",
   "execution_count": 6,
   "metadata": {},
   "outputs": [
    {
     "data": {
      "text/plain": [
       "0     0.0\n",
       "1     0.0\n",
       "2     0.0\n",
       "3     0.0\n",
       "4     0.0\n",
       "     ... \n",
       "13    1.0\n",
       "14    2.0\n",
       "15    2.0\n",
       "16    2.0\n",
       "17    2.0\n",
       "Name: class, Length: 72, dtype: float64"
      ]
     },
     "execution_count": 6,
     "metadata": {},
     "output_type": "execute_result"
    }
   ],
   "source": [
    "# 피쳐 추출\n",
    "feature_columns = list(data.columns.difference(['class']))\n",
    "X = data[feature_columns]  # 독립변수\n",
    "y = data['class']          # 종속변수\n",
    "y"
   ]
  },
  {
   "cell_type": "code",
   "execution_count": 7,
   "metadata": {},
   "outputs": [],
   "source": [
    "from sklearn import tree\n",
    "os.environ[\"PATH\"]+=os.pathsep+'C:/Program Files/Graphviz/bin/'\n",
    "from sklearn.tree import export_graphviz\n",
    "from graphviz import Source"
   ]
  },
  {
   "cell_type": "code",
   "execution_count": 8,
   "metadata": {},
   "outputs": [],
   "source": [
    "target_names = np.array(['GOOD', 'BAD_FS', 'BAD_MA']) # == [0, 1, 2]"
   ]
  },
  {
   "cell_type": "code",
   "execution_count": 9,
   "metadata": {},
   "outputs": [],
   "source": [
    "clf = tree.DecisionTreeClassifier(max_depth=2)\n",
    "#clf = clf.fit(train_x, train_y)|\n",
    "clf = clf.fit(X, y)"
   ]
  },
  {
   "cell_type": "code",
   "execution_count": 10,
   "metadata": {},
   "outputs": [
    {
     "data": {
      "image/svg+xml": [
       "<?xml version=\"1.0\" encoding=\"UTF-8\" standalone=\"no\"?>\r\n",
       "<!DOCTYPE svg PUBLIC \"-//W3C//DTD SVG 1.1//EN\"\r\n",
       " \"http://www.w3.org/Graphics/SVG/1.1/DTD/svg11.dtd\">\r\n",
       "<!-- Generated by graphviz version 2.46.0 (20210118.1747)\r\n",
       " -->\r\n",
       "<!-- Title: Tree Pages: 1 -->\r\n",
       "<svg width=\"345pt\" height=\"314pt\"\r\n",
       " viewBox=\"0.00 0.00 345.00 314.00\" xmlns=\"http://www.w3.org/2000/svg\" xmlns:xlink=\"http://www.w3.org/1999/xlink\">\r\n",
       "<g id=\"graph0\" class=\"graph\" transform=\"scale(1 1) rotate(0) translate(4 310)\">\r\n",
       "<title>Tree</title>\r\n",
       "<polygon fill=\"white\" stroke=\"transparent\" points=\"-4,4 -4,-310 341,-310 341,4 -4,4\"/>\r\n",
       "<!-- 0 -->\r\n",
       "<g id=\"node1\" class=\"node\">\r\n",
       "<title>0</title>\r\n",
       "<path fill=\"#ffffff\" stroke=\"black\" d=\"M188,-306C188,-306 75,-306 75,-306 69,-306 63,-300 63,-294 63,-294 63,-235 63,-235 63,-229 69,-223 75,-223 75,-223 188,-223 188,-223 194,-223 200,-229 200,-235 200,-235 200,-294 200,-294 200,-300 194,-306 188,-306\"/>\r\n",
       "<text text-anchor=\"start\" x=\"98\" y=\"-290.8\" font-family=\"Helvetica,sans-Serif\" font-size=\"14.00\">x2 ≤ 0.002</text>\r\n",
       "<text text-anchor=\"start\" x=\"94\" y=\"-275.8\" font-family=\"Helvetica,sans-Serif\" font-size=\"14.00\">gini = 0.648</text>\r\n",
       "<text text-anchor=\"start\" x=\"88\" y=\"-260.8\" font-family=\"Helvetica,sans-Serif\" font-size=\"14.00\">samples = 72</text>\r\n",
       "<text text-anchor=\"start\" x=\"71\" y=\"-245.8\" font-family=\"Helvetica,sans-Serif\" font-size=\"14.00\">value = [28, 28, 16]</text>\r\n",
       "<text text-anchor=\"start\" x=\"84.5\" y=\"-230.8\" font-family=\"Helvetica,sans-Serif\" font-size=\"14.00\">class = GOOD</text>\r\n",
       "</g>\r\n",
       "<!-- 1 -->\r\n",
       "<g id=\"node2\" class=\"node\">\r\n",
       "<title>1</title>\r\n",
       "<path fill=\"#e58139\" stroke=\"black\" d=\"M109,-179.5C109,-179.5 12,-179.5 12,-179.5 6,-179.5 0,-173.5 0,-167.5 0,-167.5 0,-123.5 0,-123.5 0,-117.5 6,-111.5 12,-111.5 12,-111.5 109,-111.5 109,-111.5 115,-111.5 121,-117.5 121,-123.5 121,-123.5 121,-167.5 121,-167.5 121,-173.5 115,-179.5 109,-179.5\"/>\r\n",
       "<text text-anchor=\"start\" x=\"31.5\" y=\"-164.3\" font-family=\"Helvetica,sans-Serif\" font-size=\"14.00\">gini = 0.0</text>\r\n",
       "<text text-anchor=\"start\" x=\"17\" y=\"-149.3\" font-family=\"Helvetica,sans-Serif\" font-size=\"14.00\">samples = 28</text>\r\n",
       "<text text-anchor=\"start\" x=\"8\" y=\"-134.3\" font-family=\"Helvetica,sans-Serif\" font-size=\"14.00\">value = [28, 0, 0]</text>\r\n",
       "<text text-anchor=\"start\" x=\"13.5\" y=\"-119.3\" font-family=\"Helvetica,sans-Serif\" font-size=\"14.00\">class = GOOD</text>\r\n",
       "</g>\r\n",
       "<!-- 0&#45;&gt;1 -->\r\n",
       "<g id=\"edge1\" class=\"edge\">\r\n",
       "<title>0&#45;&gt;1</title>\r\n",
       "<path fill=\"none\" stroke=\"black\" d=\"M106.87,-222.91C100.1,-211.76 92.76,-199.66 85.95,-188.44\"/>\r\n",
       "<polygon fill=\"black\" stroke=\"black\" points=\"88.81,-186.4 80.63,-179.67 82.82,-190.03 88.81,-186.4\"/>\r\n",
       "<text text-anchor=\"middle\" x=\"74.69\" y=\"-200.25\" font-family=\"Helvetica,sans-Serif\" font-size=\"14.00\">True</text>\r\n",
       "</g>\r\n",
       "<!-- 2 -->\r\n",
       "<g id=\"node3\" class=\"node\">\r\n",
       "<title>2</title>\r\n",
       "<path fill=\"#aaf4c9\" stroke=\"black\" d=\"M256,-187C256,-187 151,-187 151,-187 145,-187 139,-181 139,-175 139,-175 139,-116 139,-116 139,-110 145,-104 151,-104 151,-104 256,-104 256,-104 262,-104 268,-110 268,-116 268,-116 268,-175 268,-175 268,-181 262,-187 256,-187\"/>\r\n",
       "<text text-anchor=\"start\" x=\"165.5\" y=\"-171.8\" font-family=\"Helvetica,sans-Serif\" font-size=\"14.00\">x19 ≤ 0.003</text>\r\n",
       "<text text-anchor=\"start\" x=\"166\" y=\"-156.8\" font-family=\"Helvetica,sans-Serif\" font-size=\"14.00\">gini = 0.463</text>\r\n",
       "<text text-anchor=\"start\" x=\"160\" y=\"-141.8\" font-family=\"Helvetica,sans-Serif\" font-size=\"14.00\">samples = 44</text>\r\n",
       "<text text-anchor=\"start\" x=\"147\" y=\"-126.8\" font-family=\"Helvetica,sans-Serif\" font-size=\"14.00\">value = [0, 28, 16]</text>\r\n",
       "<text text-anchor=\"start\" x=\"150.5\" y=\"-111.8\" font-family=\"Helvetica,sans-Serif\" font-size=\"14.00\">class = BAD_FS</text>\r\n",
       "</g>\r\n",
       "<!-- 0&#45;&gt;2 -->\r\n",
       "<g id=\"edge2\" class=\"edge\">\r\n",
       "<title>0&#45;&gt;2</title>\r\n",
       "<path fill=\"none\" stroke=\"black\" d=\"M156.48,-222.91C161.9,-214.1 167.68,-204.7 173.28,-195.61\"/>\r\n",
       "<polygon fill=\"black\" stroke=\"black\" points=\"176.3,-197.37 178.56,-187.02 170.34,-193.7 176.3,-197.37\"/>\r\n",
       "<text text-anchor=\"middle\" x=\"184.35\" y=\"-207.64\" font-family=\"Helvetica,sans-Serif\" font-size=\"14.00\">False</text>\r\n",
       "</g>\r\n",
       "<!-- 3 -->\r\n",
       "<g id=\"node4\" class=\"node\">\r\n",
       "<title>3</title>\r\n",
       "<path fill=\"#39e581\" stroke=\"black\" d=\"M181.5,-68C181.5,-68 83.5,-68 83.5,-68 77.5,-68 71.5,-62 71.5,-56 71.5,-56 71.5,-12 71.5,-12 71.5,-6 77.5,0 83.5,0 83.5,0 181.5,0 181.5,0 187.5,0 193.5,-6 193.5,-12 193.5,-12 193.5,-56 193.5,-56 193.5,-62 187.5,-68 181.5,-68\"/>\r\n",
       "<text text-anchor=\"start\" x=\"103.5\" y=\"-52.8\" font-family=\"Helvetica,sans-Serif\" font-size=\"14.00\">gini = 0.0</text>\r\n",
       "<text text-anchor=\"start\" x=\"89\" y=\"-37.8\" font-family=\"Helvetica,sans-Serif\" font-size=\"14.00\">samples = 28</text>\r\n",
       "<text text-anchor=\"start\" x=\"80\" y=\"-22.8\" font-family=\"Helvetica,sans-Serif\" font-size=\"14.00\">value = [0, 28, 0]</text>\r\n",
       "<text text-anchor=\"start\" x=\"79.5\" y=\"-7.8\" font-family=\"Helvetica,sans-Serif\" font-size=\"14.00\">class = BAD_FS</text>\r\n",
       "</g>\r\n",
       "<!-- 2&#45;&gt;3 -->\r\n",
       "<g id=\"edge3\" class=\"edge\">\r\n",
       "<title>2&#45;&gt;3</title>\r\n",
       "<path fill=\"none\" stroke=\"black\" d=\"M177.06,-103.73C171.38,-94.97 165.38,-85.7 159.67,-76.91\"/>\r\n",
       "<polygon fill=\"black\" stroke=\"black\" points=\"162.47,-74.79 154.09,-68.3 156.6,-78.59 162.47,-74.79\"/>\r\n",
       "</g>\r\n",
       "<!-- 4 -->\r\n",
       "<g id=\"node5\" class=\"node\">\r\n",
       "<title>4</title>\r\n",
       "<path fill=\"#8139e5\" stroke=\"black\" d=\"M325,-68C325,-68 224,-68 224,-68 218,-68 212,-62 212,-56 212,-56 212,-12 212,-12 212,-6 218,0 224,0 224,0 325,0 325,0 331,0 337,-6 337,-12 337,-12 337,-56 337,-56 337,-62 331,-68 325,-68\"/>\r\n",
       "<text text-anchor=\"start\" x=\"245.5\" y=\"-52.8\" font-family=\"Helvetica,sans-Serif\" font-size=\"14.00\">gini = 0.0</text>\r\n",
       "<text text-anchor=\"start\" x=\"231\" y=\"-37.8\" font-family=\"Helvetica,sans-Serif\" font-size=\"14.00\">samples = 16</text>\r\n",
       "<text text-anchor=\"start\" x=\"222\" y=\"-22.8\" font-family=\"Helvetica,sans-Serif\" font-size=\"14.00\">value = [0, 0, 16]</text>\r\n",
       "<text text-anchor=\"start\" x=\"220\" y=\"-7.8\" font-family=\"Helvetica,sans-Serif\" font-size=\"14.00\">class = BAD_MA</text>\r\n",
       "</g>\r\n",
       "<!-- 2&#45;&gt;4 -->\r\n",
       "<g id=\"edge4\" class=\"edge\">\r\n",
       "<title>2&#45;&gt;4</title>\r\n",
       "<path fill=\"none\" stroke=\"black\" d=\"M229.94,-103.73C235.62,-94.97 241.62,-85.7 247.33,-76.91\"/>\r\n",
       "<polygon fill=\"black\" stroke=\"black\" points=\"250.4,-78.59 252.91,-68.3 244.53,-74.79 250.4,-78.59\"/>\r\n",
       "</g>\r\n",
       "</g>\r\n",
       "</svg>\r\n"
      ],
      "text/plain": [
       "<graphviz.files.Source at 0x120a3386610>"
      ]
     },
     "execution_count": 10,
     "metadata": {},
     "output_type": "execute_result"
    }
   ],
   "source": [
    "dot_data = tree.export_graphviz(clf, out_file=None,\n",
    "                               feature_names=feature_columns,\n",
    "                               class_names=target_names,\n",
    "                               filled=True, rounded=True,\n",
    "                               special_characters=True)\n",
    "graph = Source(dot_data)\n",
    "graph"
   ]
  },
  {
   "cell_type": "code",
   "execution_count": null,
   "metadata": {},
   "outputs": [],
   "source": []
  }
 ],
 "metadata": {
  "kernelspec": {
   "display_name": "Python 3",
   "language": "python",
   "name": "python3"
  },
  "language_info": {
   "codemirror_mode": {
    "name": "ipython",
    "version": 3
   },
   "file_extension": ".py",
   "mimetype": "text/x-python",
   "name": "python",
   "nbconvert_exporter": "python",
   "pygments_lexer": "ipython3",
   "version": "3.8.3"
  }
 },
 "nbformat": 4,
 "nbformat_minor": 4
}
